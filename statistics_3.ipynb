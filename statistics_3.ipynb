{
 "cells": [
  {
   "cell_type": "code",
   "execution_count": 2,
   "id": "3fca4c6b-5a66-430b-af1e-9d9f07ddb951",
   "metadata": {},
   "outputs": [],
   "source": [
    "import numpy as np\n",
    "import pandas as pd\n",
    "import seaborn as sns\n",
    "import matplotlib.pyplot as plt\n",
    "from scipy import stats"
   ]
  },
  {
   "cell_type": "code",
   "execution_count": 3,
   "id": "93b153c2-c025-4849-a040-63b763ef039b",
   "metadata": {},
   "outputs": [],
   "source": [
    "df = pd.read_csv(r\"C:\\Users\\Redmi\\Downloads\\experiment_lesson_4.csv\")"
   ]
  },
  {
   "cell_type": "code",
   "execution_count": 4,
   "id": "6ef8cbfe-b670-4038-ae90-fd42b360a89b",
   "metadata": {},
   "outputs": [
    {
     "data": {
      "text/html": [
       "<div>\n",
       "<style scoped>\n",
       "    .dataframe tbody tr th:only-of-type {\n",
       "        vertical-align: middle;\n",
       "    }\n",
       "\n",
       "    .dataframe tbody tr th {\n",
       "        vertical-align: top;\n",
       "    }\n",
       "\n",
       "    .dataframe thead th {\n",
       "        text-align: right;\n",
       "    }\n",
       "</style>\n",
       "<table border=\"1\" class=\"dataframe\">\n",
       "  <thead>\n",
       "    <tr style=\"text-align: right;\">\n",
       "      <th></th>\n",
       "      <th>order_id</th>\n",
       "      <th>delivery_time</th>\n",
       "      <th>district</th>\n",
       "      <th>experiment_group</th>\n",
       "    </tr>\n",
       "  </thead>\n",
       "  <tbody>\n",
       "    <tr>\n",
       "      <th>0</th>\n",
       "      <td>3159</td>\n",
       "      <td>44.0</td>\n",
       "      <td>Purlieus</td>\n",
       "      <td>control</td>\n",
       "    </tr>\n",
       "    <tr>\n",
       "      <th>1</th>\n",
       "      <td>10426</td>\n",
       "      <td>51.0</td>\n",
       "      <td>Purlieus</td>\n",
       "      <td>control</td>\n",
       "    </tr>\n",
       "    <tr>\n",
       "      <th>2</th>\n",
       "      <td>9155</td>\n",
       "      <td>46.0</td>\n",
       "      <td>Purlieus</td>\n",
       "      <td>control</td>\n",
       "    </tr>\n",
       "    <tr>\n",
       "      <th>3</th>\n",
       "      <td>10699</td>\n",
       "      <td>34.0</td>\n",
       "      <td>Purlieus</td>\n",
       "      <td>control</td>\n",
       "    </tr>\n",
       "    <tr>\n",
       "      <th>4</th>\n",
       "      <td>10061</td>\n",
       "      <td>43.0</td>\n",
       "      <td>Purlieus</td>\n",
       "      <td>control</td>\n",
       "    </tr>\n",
       "    <tr>\n",
       "      <th>...</th>\n",
       "      <td>...</td>\n",
       "      <td>...</td>\n",
       "      <td>...</td>\n",
       "      <td>...</td>\n",
       "    </tr>\n",
       "    <tr>\n",
       "      <th>20191</th>\n",
       "      <td>14561</td>\n",
       "      <td>42.0</td>\n",
       "      <td>Suburb</td>\n",
       "      <td>test</td>\n",
       "    </tr>\n",
       "    <tr>\n",
       "      <th>20192</th>\n",
       "      <td>12015</td>\n",
       "      <td>32.0</td>\n",
       "      <td>Suburb</td>\n",
       "      <td>test</td>\n",
       "    </tr>\n",
       "    <tr>\n",
       "      <th>20193</th>\n",
       "      <td>20077</td>\n",
       "      <td>23.0</td>\n",
       "      <td>Purlieus</td>\n",
       "      <td>test</td>\n",
       "    </tr>\n",
       "    <tr>\n",
       "      <th>20194</th>\n",
       "      <td>14861</td>\n",
       "      <td>41.0</td>\n",
       "      <td>Central</td>\n",
       "      <td>test</td>\n",
       "    </tr>\n",
       "    <tr>\n",
       "      <th>20195</th>\n",
       "      <td>13501</td>\n",
       "      <td>41.0</td>\n",
       "      <td>Central</td>\n",
       "      <td>test</td>\n",
       "    </tr>\n",
       "  </tbody>\n",
       "</table>\n",
       "<p>20196 rows × 4 columns</p>\n",
       "</div>"
      ],
      "text/plain": [
       "       order_id  delivery_time  district experiment_group\n",
       "0          3159           44.0  Purlieus          control\n",
       "1         10426           51.0  Purlieus          control\n",
       "2          9155           46.0  Purlieus          control\n",
       "3         10699           34.0  Purlieus          control\n",
       "4         10061           43.0  Purlieus          control\n",
       "...         ...            ...       ...              ...\n",
       "20191     14561           42.0    Suburb             test\n",
       "20192     12015           32.0    Suburb             test\n",
       "20193     20077           23.0  Purlieus             test\n",
       "20194     14861           41.0   Central             test\n",
       "20195     13501           41.0   Central             test\n",
       "\n",
       "[20196 rows x 4 columns]"
      ]
     },
     "execution_count": 4,
     "metadata": {},
     "output_type": "execute_result"
    }
   ],
   "source": [
    "df"
   ]
  },
  {
   "cell_type": "markdown",
   "id": "b9682aaf-486d-4e16-aef8-2fba17b3d2b0",
   "metadata": {},
   "source": [
    "* Нулевая гипотеза (H0): Разницы между средним временем доставки в тестовой и контрольной группе нет\n",
    "* Альтернативная гипотеза (H1): Разница между средним временем доставки в тестовой и контрольной группе есть"
   ]
  },
  {
   "cell_type": "markdown",
   "id": "00c2c824-9ff1-4f5c-8e77-86541a865d2f",
   "metadata": {},
   "source": [
    "Построим распределение времени доставки для контрольной и тестовой групп"
   ]
  },
  {
   "cell_type": "code",
   "execution_count": 5,
   "id": "78a6f16c-c39f-430d-82df-760116146e75",
   "metadata": {},
   "outputs": [],
   "source": [
    "# Разделение выборки на две группы по признаку 'experiment_group'\n",
    "group_control = df[df['experiment_group'] == 'control']\n",
    "group_test = df[df['experiment_group'] == 'test']"
   ]
  },
  {
   "cell_type": "code",
   "execution_count": 6,
   "id": "ea082b07-633d-48a8-9a72-7619fa448a09",
   "metadata": {},
   "outputs": [
    {
     "data": {
      "image/png": "[encoded data removed]",
      "text/plain": [
       "<Figure size 800x600 with 2 Axes>"
      ]
     },
     "metadata": {},
     "output_type": "display_data"
    }
   ],
   "source": [
    "# Создание фигуры и двух подграфиков\n",
    "fig, (ax1, ax2) = plt.subplots(2, 1, figsize=(8, 6))\n",
    "\n",
    "# Построение первого графика с использованием seaborn\n",
    "sns.histplot(x='delivery_time', data=group_control, ax=ax1)\n",
    "ax1.set_title('Распределения времени доставки контрольной группы')\n",
    "ax1.set_xlabel('Время доставки')\n",
    "\n",
    "# Построение второго графика с использованием seaborn\n",
    "sns.histplot(x='delivery_time', data=group_test, ax=ax2, color='green')\n",
    "ax2.set_title('Распределения времени доставки тестовой группы')\n",
    "ax2.set_xlabel('Время доставки')\n",
    "\n",
    "# Настройка расстояния между подграфиками\n",
    "plt.tight_layout(pad=1.08)\n",
    "\n",
    "# Отображение графиков\n",
    "plt.show()"
   ]
  },
  {
   "cell_type": "markdown",
   "id": "da8b132a-a0a2-4068-bd41-98e1a54bfc96",
   "metadata": {},
   "source": [
    "На сколько по модулю отличается количество наблюдений в тесте и контроле?"
   ]
  },
  {
   "cell_type": "code",
   "execution_count": 7,
   "id": "8ee9dce5-a17b-4620-ab42-0d0dccea7c86",
   "metadata": {},
   "outputs": [
    {
     "name": "stdout",
     "output_type": "stream",
     "text": [
      "experiment_group\n",
      "control    10092\n",
      "test       10104\n",
      "dtype: int64\n"
     ]
    }
   ],
   "source": [
    "group_sizes = df.groupby('experiment_group').size()\n",
    "print(group_sizes)\n"
   ]
  },
  {
   "cell_type": "markdown",
   "id": "c0a31e0d-fa34-4466-8431-10dcc6ed3f8d",
   "metadata": {},
   "source": [
    "Проверим выполнение условий на нормальность и посчитаем стандартное отклонение в тесте и в контроле."
   ]
  },
  {
   "cell_type": "code",
   "execution_count": 8,
   "id": "8996641b-0f30-4cd8-83f5-77fe73231637",
   "metadata": {},
   "outputs": [
    {
     "name": "stdout",
     "output_type": "stream",
     "text": [
      "Statistic: 0.25349755437872584\n",
      "p-value: 0.8809549607809654\n"
     ]
    }
   ],
   "source": [
    "from scipy.stats import normaltest \n",
    "\n",
    "stat_control, p_value_control = normaltest(group_control['delivery_time'], nan_policy='omit')\n",
    "\n",
    "print(f\"Statistic: {stat_control}\")\n",
    "print(f\"p-value: {p_value_control}\")"
   ]
  },
  {
   "cell_type": "code",
   "execution_count": 9,
   "id": "3137ab60-8304-43c9-a151-16509ae8018b",
   "metadata": {},
   "outputs": [
    {
     "name": "stdout",
     "output_type": "stream",
     "text": [
      "Statistic: 7.024157092641915\n",
      "p-value: 0.02983483685333173\n"
     ]
    }
   ],
   "source": [
    "stat_test, p_value_test = normaltest(group_test['delivery_time'], nan_policy='omit')\n",
    "\n",
    "print(f\"Statistic: {stat_test}\")\n",
    "print(f\"p-value: {p_value_test}\")"
   ]
  },
  {
   "cell_type": "code",
   "execution_count": null,
   "id": "2b5e6451-4963-4672-8b88-5126fc28c9a2",
   "metadata": {},
   "outputs": [],
   "source": []
  },
  {
   "cell_type": "code",
   "execution_count": 10,
   "id": "efad52d1-45f9-41c0-906c-1a926d7822e4",
   "metadata": {},
   "outputs": [],
   "source": [
    "import pingouin as pg"
   ]
  },
  {
   "cell_type": "code",
   "execution_count": 11,
   "id": "3ede8178-d141-4943-948f-5aede646877c",
   "metadata": {},
   "outputs": [
    {
     "data": {
      "text/html": [
       "<div>\n",
       "<style scoped>\n",
       "    .dataframe tbody tr th:only-of-type {\n",
       "        vertical-align: middle;\n",
       "    }\n",
       "\n",
       "    .dataframe tbody tr th {\n",
       "        vertical-align: top;\n",
       "    }\n",
       "\n",
       "    .dataframe thead th {\n",
       "        text-align: right;\n",
       "    }\n",
       "</style>\n",
       "<table border=\"1\" class=\"dataframe\">\n",
       "  <thead>\n",
       "    <tr style=\"text-align: right;\">\n",
       "      <th></th>\n",
       "      <th>W</th>\n",
       "      <th>pval</th>\n",
       "      <th>normal</th>\n",
       "    </tr>\n",
       "  </thead>\n",
       "  <tbody>\n",
       "    <tr>\n",
       "      <th>delivery_time</th>\n",
       "      <td>0.253498</td>\n",
       "      <td>0.880955</td>\n",
       "      <td>True</td>\n",
       "    </tr>\n",
       "  </tbody>\n",
       "</table>\n",
       "</div>"
      ],
      "text/plain": [
       "                      W      pval  normal\n",
       "delivery_time  0.253498  0.880955    True"
      ]
     },
     "execution_count": 11,
     "metadata": {},
     "output_type": "execute_result"
    }
   ],
   "source": [
    "pg.normality(group_control['delivery_time'], method='normaltest')"
   ]
  },
  {
   "cell_type": "code",
   "execution_count": 12,
   "id": "cb3b785f-7903-47f0-8d0b-028dfb896215",
   "metadata": {},
   "outputs": [
    {
     "data": {
      "text/html": [
       "<div>\n",
       "<style scoped>\n",
       "    .dataframe tbody tr th:only-of-type {\n",
       "        vertical-align: middle;\n",
       "    }\n",
       "\n",
       "    .dataframe tbody tr th {\n",
       "        vertical-align: top;\n",
       "    }\n",
       "\n",
       "    .dataframe thead th {\n",
       "        text-align: right;\n",
       "    }\n",
       "</style>\n",
       "<table border=\"1\" class=\"dataframe\">\n",
       "  <thead>\n",
       "    <tr style=\"text-align: right;\">\n",
       "      <th></th>\n",
       "      <th>W</th>\n",
       "      <th>pval</th>\n",
       "      <th>normal</th>\n",
       "    </tr>\n",
       "  </thead>\n",
       "  <tbody>\n",
       "    <tr>\n",
       "      <th>delivery_time</th>\n",
       "      <td>7.024157</td>\n",
       "      <td>0.029835</td>\n",
       "      <td>False</td>\n",
       "    </tr>\n",
       "  </tbody>\n",
       "</table>\n",
       "</div>"
      ],
      "text/plain": [
       "                      W      pval  normal\n",
       "delivery_time  7.024157  0.029835   False"
      ]
     },
     "execution_count": 12,
     "metadata": {},
     "output_type": "execute_result"
    }
   ],
   "source": [
    "pg.normality(group_test['delivery_time'], method='normaltest')"
   ]
  },
  {
   "cell_type": "code",
   "execution_count": null,
   "id": "fce86959-39e0-4486-a4f0-72ef995240bd",
   "metadata": {},
   "outputs": [],
   "source": []
  },
  {
   "cell_type": "code",
   "execution_count": 13,
   "id": "951b10f3-c707-4dfb-a171-77e9c429e9d4",
   "metadata": {},
   "outputs": [],
   "source": [
    "grouped = df.groupby('experiment_group')['delivery_time']\n",
    "\n",
    "# Вычисление среднего значения и стандартного отклонения для каждой группы\n",
    "mean_values = grouped.mean()\n",
    "std_values = grouped.std()"
   ]
  },
  {
   "cell_type": "code",
   "execution_count": 14,
   "id": "9c4981c5-c76c-4f64-91b2-21c72fbe4815",
   "metadata": {},
   "outputs": [
    {
     "data": {
      "text/plain": [
       "experiment_group\n",
       "control    45.065101\n",
       "test       39.046813\n",
       "Name: delivery_time, dtype: float64"
      ]
     },
     "execution_count": 14,
     "metadata": {},
     "output_type": "execute_result"
    }
   ],
   "source": [
    "mean_values"
   ]
  },
  {
   "cell_type": "code",
   "execution_count": 15,
   "id": "c5af0f9d-cb79-473d-a71f-a1df958d9a03",
   "metadata": {},
   "outputs": [
    {
     "data": {
      "text/plain": [
       "experiment_group\n",
       "control    9.990017\n",
       "test       9.883308\n",
       "Name: delivery_time, dtype: float64"
      ]
     },
     "execution_count": 15,
     "metadata": {},
     "output_type": "execute_result"
    }
   ],
   "source": [
    "std_values"
   ]
  },
  {
   "cell_type": "code",
   "execution_count": null,
   "id": "23c93121-ed4a-4e16-a427-243672fb6758",
   "metadata": {},
   "outputs": [],
   "source": []
  },
  {
   "cell_type": "code",
   "execution_count": 16,
   "id": "41015e52-1fb7-4df2-b452-12c0a332fd56",
   "metadata": {},
   "outputs": [
    {
     "data": {
      "text/plain": [
       "0.0"
      ]
     },
     "execution_count": 16,
     "metadata": {},
     "output_type": "execute_result"
    }
   ],
   "source": [
    "stats.ttest_ind(group_control['delivery_time'], group_test['delivery_time']).pvalue"
   ]
  },
  {
   "cell_type": "code",
   "execution_count": 18,
   "id": "2a49fa5a-3788-415c-8a4a-b33fa3cb65d1",
   "metadata": {},
   "outputs": [
    {
     "data": {
      "text/plain": [
       "10092    38.0\n",
       "10093    31.0\n",
       "10094    39.0\n",
       "10095    29.0\n",
       "10096    31.0\n",
       "         ... \n",
       "20191    42.0\n",
       "20192    32.0\n",
       "20193    23.0\n",
       "20194    41.0\n",
       "20195    41.0\n",
       "Name: delivery_time, Length: 10104, dtype: float64"
      ]
     },
     "execution_count": 18,
     "metadata": {},
     "output_type": "execute_result"
    }
   ],
   "source": [
    "group_test['delivery_time']"
   ]
  },
  {
   "cell_type": "code",
   "execution_count": null,
   "id": "2f57e208-b98d-4fce-957c-206ec274aa4f",
   "metadata": {},
   "outputs": [],
   "source": [
    "Нулевая гипотеза о том, что разницы между средним временем доставки в тестовой и контрольной группе нет,"
   ]
  },
  {
   "cell_type": "markdown",
   "id": "c718f4c9-6988-439b-9add-82c6e034a5be",
   "metadata": {},
   "source": [
    "По результатам анализа, показания времени доставки по тестовой группе оказались выше, чем в контрольной группе.\n"
   ]
  },
  {
   "cell_type": "code",
   "execution_count": null,
   "id": "ebe240ad-4e12-49f8-bf46-c56013627bd9",
   "metadata": {},
   "outputs": [],
   "source": []
  },
  {
   "cell_type": "code",
   "execution_count": null,
   "id": "b822d791-8ed8-461d-aefa-6e429c29f655",
   "metadata": {},
   "outputs": [],
   "source": []
  },
  {
   "cell_type": "code",
   "execution_count": null,
   "id": "cb9d119c-1841-4fe7-a2a0-68c25ce70c4b",
   "metadata": {},
   "outputs": [],
   "source": []
  },
  {
   "cell_type": "code",
   "execution_count": null,
   "id": "1af338c8-d64e-4eb2-9ca1-33f7307d08df",
   "metadata": {},
   "outputs": [],
   "source": []
  },
  {
   "cell_type": "code",
   "execution_count": null,
   "id": "82c39f72-7957-4409-be28-698f18f68e17",
   "metadata": {},
   "outputs": [],
   "source": []
  }
 ],
 "metadata": {
  "kernelspec": {
   "display_name": "Python 3 (ipykernel)",
   "language": "python",
   "name": "python3"
  },
  "language_info": {
   "codemirror_mode": {
    "name": "ipython",
    "version": 3
   },
   "file_extension": ".py",
   "mimetype": "text/x-python",
   "name": "python",
   "nbconvert_exporter": "python",
   "pygments_lexer": "ipython3",
   "version": "3.11.5"
  }
 },
 "nbformat": 4,
 "nbformat_minor": 5
}
